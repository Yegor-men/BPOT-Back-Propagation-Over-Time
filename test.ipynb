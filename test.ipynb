{
 "cells": [
  {
   "cell_type": "code",
   "execution_count": 3,
   "id": "28dd61cd",
   "metadata": {},
   "outputs": [
    {
     "data": {
      "text/plain": [
       "<torch.autograd.grad_mode.set_grad_enabled at 0x7f123b1ffb10>"
      ]
     },
     "execution_count": 3,
     "metadata": {},
     "output_type": "execute_result"
    }
   ],
   "source": [
    "import torch\n",
    "\n",
    "torch.manual_seed(0)\n",
    "torch.cuda.manual_seed_all(0)\n",
    "\n",
    "torch.set_grad_enabled(False)"
   ]
  },
  {
   "cell_type": "code",
   "execution_count": null,
   "id": "6209c824",
   "metadata": {},
   "outputs": [
    {
     "name": "stdout",
     "output_type": "stream",
     "text": [
      "tensor([0., 1., 1., 0., 1., 0., 0., 1., 1., 1.], device='cuda:0')\n"
     ]
    }
   ],
   "source": [
    "class Layer:\n",
    "    def __init__(\n",
    "        self,\n",
    "        num_in: int,\n",
    "        num_out: int,\n",
    "        threshold: float = 1,\n",
    "        mem_decay: float = 0.99,\n",
    "        ls_decay:float = 0,\n",
    "        device: str = \"cuda\",\n",
    "    ) -> None:\n",
    "        self.num_in = num_in\n",
    "        self.num_out = num_out\n",
    "        \n",
    "        self.mem_decay = mem_decay\n",
    "        self.ls_decay = ls_decay\n",
    "        \n",
    "        self.w = torch.randn(num_in, num_out).to(device)\n",
    "        self.mem = torch.zeros(num_out).to(self.w)\n",
    "        self.threshold = torch.ones(num_out).to(self.w) * threshold\n",
    "        \n",
    "        self.ls = torch.zeros_like(self.mem)\n",
    "        \n",
    "        self.in_trace = torch.zeros(num_in).to(self.w)\n",
    "    \n",
    "    def update_ls(\n",
    "        self,\n",
    "        learning_signal: torch.Tensor,\n",
    "    ) -> None:\n",
    "        assert learning_signal.size() == (self.num_out,), f\"Learning Signal update: expected size ({self.num_out},), got {learning_signal.size()} instead\"\n",
    "        learning_signal = learning_signal.to(self.ls)\n",
    "        \n",
    "        self.ls *= self.ls_decay\n",
    "        self.ls += learning_signal\n",
    "    \n",
    "    def backward(\n",
    "        self,\n",
    "    ) -> torch.Tensor:\n",
    "        ls = self.ls.unsqueeze(0)\n",
    "        ls = torch.broadcast_to(ls, (self.num_in, self.num_out))\n",
    "        \n",
    "        input_tensor = self.in_trace.unsqueeze(-1)\n",
    "        input_tensor = torch.broadcast_to(input_tensor, (self.num_in, self.num_out))\n",
    "        \n",
    "        delta_w = ls * input_tensor\n",
    "        delta_input = ls * self.w # [in, out], has to be turned into size [in]\n",
    "        \n",
    "        passed_ls = delta_input.sum(dim=-1)\n",
    "        \n",
    "        return passed_ls\n",
    "    \n",
    "    def forward(\n",
    "        self,\n",
    "        in_spikes: torch.Tensor,\n",
    "    ) -> torch.Tensor:\n",
    "        assert in_spikes.size() == (self.num_in,), f\"Forward: expected size ({self.num_in},), got {in_spikes.size()} instead\"\n",
    "        in_spikes = in_spikes.to(self.w)\n",
    "        \n",
    "        self.in_trace *= self.mem_decay\n",
    "        self.in_trace += in_spikes\n",
    "        \n",
    "        current = in_spikes @ self.w\n",
    "        self.mem *= self.mem_decay\n",
    "        self.mem += current\n",
    "        \n",
    "        out_spikes = (self.mem >= self.threshold).float()\n",
    "        \n",
    "        self.mem -= out_spikes * self.threshold\n",
    "        \n",
    "        return out_spikes\n",
    "\n",
    "n_in, n_out = 10, 10\n",
    "test_layer = Layer(n_in, n_out)\n",
    "rand = torch.rand(n_in).round()\n",
    "out = test_layer.forward(rand)\n",
    "print(out)"
   ]
  }
 ],
 "metadata": {
  "kernelspec": {
   "display_name": "snn",
   "language": "python",
   "name": "python3"
  },
  "language_info": {
   "codemirror_mode": {
    "name": "ipython",
    "version": 3
   },
   "file_extension": ".py",
   "mimetype": "text/x-python",
   "name": "python",
   "nbconvert_exporter": "python",
   "pygments_lexer": "ipython3",
   "version": "3.13.2"
  }
 },
 "nbformat": 4,
 "nbformat_minor": 5
}
